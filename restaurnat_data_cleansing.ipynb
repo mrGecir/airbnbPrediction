{
  "nbformat": 4,
  "nbformat_minor": 0,
  "metadata": {
    "colab": {
      "name": "restaurnat_data_cleansing",
      "provenance": [],
      "collapsed_sections": []
    },
    "kernelspec": {
      "name": "python3",
      "display_name": "Python 3"
    }
  },
  "cells": [
    {
      "cell_type": "markdown",
      "metadata": {
        "id": "pjSyNlBvMLRm"
      },
      "source": [
        "# In this Notebook I get the number of restaurant per zipcode in NYC \r\n",
        "# which I later use to merge with my original dataset"
      ]
    },
    {
      "cell_type": "code",
      "metadata": {
        "id": "g05IxmdlQo_g"
      },
      "source": [
        "import pandas as pd\n"
      ],
      "execution_count": null,
      "outputs": []
    },
    {
      "cell_type": "code",
      "metadata": {
        "id": "HzOFFbyVVibY"
      },
      "source": [
        "r_df = pd.read_csv('/content/drive/MyDrive/airbnb/restaurant_data_set_2.csv')"
      ],
      "execution_count": null,
      "outputs": []
    },
    {
      "cell_type": "code",
      "metadata": {
        "colab": {
          "base_uri": "https://localhost:8080/"
        },
        "id": "mOxy5lXNVrB6",
        "outputId": "5125cad1-29ae-4a33-e288-45d18421dc35"
      },
      "source": [
        "r_df.columns"
      ],
      "execution_count": null,
      "outputs": [
        {
          "output_type": "execute_result",
          "data": {
            "text/plain": [
              "Index(['CAMIS', 'DBA', 'BORO', 'STREET', 'ZIPCODE', 'INSPECTION DATE',\n",
              "       'VIOLATION CODE', 'VIOLATION DESCRIPTION', 'GRADE'],\n",
              "      dtype='object')"
            ]
          },
          "metadata": {
            "tags": []
          },
          "execution_count": 3
        }
      ]
    },
    {
      "cell_type": "markdown",
      "metadata": {
        "id": "kN_5jmdhNAlt"
      },
      "source": [
        "Getting the number of different zipcode value counts to easily get how many zipcodes there are but I have to first convert to int then string to get more accurate answer"
      ]
    },
    {
      "cell_type": "code",
      "metadata": {
        "colab": {
          "base_uri": "https://localhost:8080/"
        },
        "id": "tL93Ua9jWLdU",
        "outputId": "16c6c2fe-3ad8-40f7-839e-64de8d471fad"
      },
      "source": [
        "r_df['ZIPCODE'].value_counts()"
      ],
      "execution_count": null,
      "outputs": [
        {
          "output_type": "execute_result",
          "data": {
            "text/plain": [
              "10003.0    10332\n",
              "10019.0     9472\n",
              "10013.0     8677\n",
              "10036.0     8462\n",
              "10002.0     8220\n",
              "           ...  \n",
              "10107.0        6\n",
              "10285.0        5\n",
              "10155.0        3\n",
              "10151.0        2\n",
              "11550.0        1\n",
              "Name: ZIPCODE, Length: 227, dtype: int64"
            ]
          },
          "metadata": {
            "tags": []
          },
          "execution_count": 4
        }
      ]
    },
    {
      "cell_type": "code",
      "metadata": {
        "id": "_DE7AGZQWQge"
      },
      "source": [
        "r_df = r_df[r_df['BORO'] !=  '0']"
      ],
      "execution_count": null,
      "outputs": []
    },
    {
      "cell_type": "code",
      "metadata": {
        "colab": {
          "base_uri": "https://localhost:8080/"
        },
        "id": "1qNVebdOXK6x",
        "outputId": "b2646739-d3b5-43c6-dfe8-ec71e40bc813"
      },
      "source": [
        "r_df['ZIPCODE'].isnull().sum().sum()"
      ],
      "execution_count": null,
      "outputs": [
        {
          "output_type": "execute_result",
          "data": {
            "text/plain": [
              "6609"
            ]
          },
          "metadata": {
            "tags": []
          },
          "execution_count": 6
        }
      ]
    },
    {
      "cell_type": "code",
      "metadata": {
        "id": "QzWJ0dBCZU2a"
      },
      "source": [
        "r_df = r_df[r_df['ZIPCODE'].notna()]\n"
      ],
      "execution_count": null,
      "outputs": []
    },
    {
      "cell_type": "code",
      "metadata": {
        "colab": {
          "base_uri": "https://localhost:8080/"
        },
        "id": "iQiJSCjVXGa7",
        "outputId": "058daa79-e096-49d2-d899-30b2f3e93fe1"
      },
      "source": [
        "r_df['ZIPCODE'].isnull().sum().sum()"
      ],
      "execution_count": null,
      "outputs": [
        {
          "output_type": "execute_result",
          "data": {
            "text/plain": [
              "0"
            ]
          },
          "metadata": {
            "tags": []
          },
          "execution_count": 8
        }
      ]
    },
    {
      "cell_type": "code",
      "metadata": {
        "id": "HacAomFtZfzk"
      },
      "source": [
        "r_df = r_df['ZIPCODE'].value_counts().reset_index() # just want to get the number of zipcodes and their count "
      ],
      "execution_count": null,
      "outputs": []
    },
    {
      "cell_type": "code",
      "metadata": {
        "id": "lAC61WZaaVhj"
      },
      "source": [
        "r_df.rename(columns={\"index\":\"zipcode\",\"ZIPCODE\":\"count\"},inplace=True)# rename "
      ],
      "execution_count": null,
      "outputs": []
    },
    {
      "cell_type": "code",
      "metadata": {
        "colab": {
          "base_uri": "https://localhost:8080/"
        },
        "id": "vXv5IkNWaopT",
        "outputId": "f7ea4be5-f155-4ed7-9676-d78d2e039368"
      },
      "source": [
        "r_df['zipcode'] "
      ],
      "execution_count": null,
      "outputs": [
        {
          "output_type": "execute_result",
          "data": {
            "text/plain": [
              "0      10003.0\n",
              "1      10019.0\n",
              "2      10013.0\n",
              "3      10036.0\n",
              "4      10002.0\n",
              "        ...   \n",
              "217    10168.0\n",
              "218    10177.0\n",
              "219    10107.0\n",
              "220    10155.0\n",
              "221    10151.0\n",
              "Name: zipcode, Length: 222, dtype: float64"
            ]
          },
          "metadata": {
            "tags": []
          },
          "execution_count": 24
        }
      ]
    },
    {
      "cell_type": "code",
      "metadata": {
        "id": "Hk5rwG3TbeaZ"
      },
      "source": [
        "r_df['zipcode'] = r_df['zipcode'].astype(int) # convert float to int "
      ],
      "execution_count": null,
      "outputs": []
    },
    {
      "cell_type": "code",
      "metadata": {
        "colab": {
          "base_uri": "https://localhost:8080/"
        },
        "id": "-smz0Ehod9PV",
        "outputId": "f18bf25c-6dc0-4da6-8f72-23f6fb664de0"
      },
      "source": [
        "r_df['zipcode']"
      ],
      "execution_count": null,
      "outputs": [
        {
          "output_type": "execute_result",
          "data": {
            "text/plain": [
              "0      10003\n",
              "1      10019\n",
              "2      10013\n",
              "3      10036\n",
              "4      10002\n",
              "       ...  \n",
              "217    10168\n",
              "218    10177\n",
              "219    10107\n",
              "220    10155\n",
              "221    10151\n",
              "Name: zipcode, Length: 222, dtype: int64"
            ]
          },
          "metadata": {
            "tags": []
          },
          "execution_count": 28
        }
      ]
    },
    {
      "cell_type": "code",
      "metadata": {
        "id": "RIXcQfdzd0nl"
      },
      "source": [
        " r_df['zipcode'] = r_df['zipcode'].astype(str)# convert int to string "
      ],
      "execution_count": null,
      "outputs": []
    },
    {
      "cell_type": "code",
      "metadata": {
        "colab": {
          "base_uri": "https://localhost:8080/"
        },
        "id": "7x5jJvp1d2sh",
        "outputId": "ca0028e9-8678-4290-c023-14213d024481"
      },
      "source": [
        "r_df['zipcode']"
      ],
      "execution_count": null,
      "outputs": [
        {
          "output_type": "execute_result",
          "data": {
            "text/plain": [
              "0      10003\n",
              "1      10019\n",
              "2      10013\n",
              "3      10036\n",
              "4      10002\n",
              "       ...  \n",
              "217    10168\n",
              "218    10177\n",
              "219    10107\n",
              "220    10155\n",
              "221    10151\n",
              "Name: zipcode, Length: 222, dtype: object"
            ]
          },
          "metadata": {
            "tags": []
          },
          "execution_count": 31
        }
      ]
    },
    {
      "cell_type": "markdown",
      "metadata": {
        "id": "ULlDxgt4NdBd"
      },
      "source": [
        "Saving the dataset"
      ]
    },
    {
      "cell_type": "code",
      "metadata": {
        "id": "suolgnAjegZv"
      },
      "source": [
        "# Import Drive API and authenticate.\n",
        "from google.colab import drive\n",
        "\n",
        "# Mount your Drive to the Colab VM.\n",
        "#drive.mount('/content/drive')\n",
        "\n",
        "# Write the DataFrame to CSV file.\n",
        "with open('/content/drive/MyDrive/airbnb/restData.csv', 'w') as f:\n",
        "  r_df.to_csv(f)"
      ],
      "execution_count": null,
      "outputs": []
    },
    {
      "cell_type": "code",
      "metadata": {
        "id": "nSjYVi1ofYg0"
      },
      "source": [
        "t = pd.read_csv('/content/drive/MyDrive/airbnb/restData.csv')"
      ],
      "execution_count": null,
      "outputs": []
    },
    {
      "cell_type": "code",
      "metadata": {
        "id": "5lc4xD7dgEYx"
      },
      "source": [
        ""
      ],
      "execution_count": null,
      "outputs": []
    }
  ]
}